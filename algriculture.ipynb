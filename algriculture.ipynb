{
 "cells": [
  {
   "cell_type": "code",
   "execution_count": 2,
   "id": "1452b2b1",
   "metadata": {},
   "outputs": [],
   "source": [
    "import pandas as pd\n",
    "import numpy as np"
   ]
  },
  {
   "cell_type": "code",
   "execution_count": 3,
   "id": "c16512b9",
   "metadata": {},
   "outputs": [],
   "source": [
    "path = \"C:/Users/HANNAH/Documents/personal-projects/PythonCourse/Assessment/Africa_Quantity.csv\"\n",
    "df = pd.read_csv(path)\n",
    "df_copy = df.copy()"
   ]
  },
  {
   "cell_type": "code",
   "execution_count": 4,
   "id": "9e66ff15",
   "metadata": {},
   "outputs": [
    {
     "data": {
      "text/plain": [
       "Land Area       0\n",
       "Trade flow      0\n",
       "Commodity       0\n",
       "2000            0\n",
       "S_2000        131\n",
       "2001            0\n",
       "S_2001        127\n",
       "2002            0\n",
       "S_2002        130\n",
       "2003            0\n",
       "S_2003        139\n",
       "2004            0\n",
       "S_2004        128\n",
       "2005            0\n",
       "S_2005        131\n",
       "2006            0\n",
       "S_2006        124\n",
       "2007            0\n",
       "S_2007        141\n",
       "2008            0\n",
       "S_2008        142\n",
       "2009            0\n",
       "S_2009        135\n",
       "2010            0\n",
       "S_2010        135\n",
       "2011            0\n",
       "S_2011        132\n",
       "2012            0\n",
       "S_2012        134\n",
       "2013            0\n",
       "S_2013        129\n",
       "2014            0\n",
       "S_2014        123\n",
       "2015            0\n",
       "S_2015        109\n",
       "dtype: int64"
      ]
     },
     "execution_count": 4,
     "metadata": {},
     "output_type": "execute_result"
    }
   ],
   "source": [
    "df_copy.isna().sum()"
   ]
  },
  {
   "cell_type": "code",
   "execution_count": 5,
   "id": "a778963c",
   "metadata": {},
   "outputs": [
    {
     "name": "stdout",
     "output_type": "stream",
     "text": [
      "<class 'pandas.core.frame.DataFrame'>\n",
      "RangeIndex: 219 entries, 0 to 218\n",
      "Data columns (total 35 columns):\n",
      " #   Column      Non-Null Count  Dtype \n",
      "---  ------      --------------  ----- \n",
      " 0   Land Area   219 non-null    object\n",
      " 1   Trade flow  219 non-null    object\n",
      " 2   Commodity   219 non-null    object\n",
      " 3   2000        219 non-null    int64 \n",
      " 4   S_2000      88 non-null     object\n",
      " 5   2001        219 non-null    int64 \n",
      " 6   S_2001      92 non-null     object\n",
      " 7   2002        219 non-null    int64 \n",
      " 8   S_2002      89 non-null     object\n",
      " 9   2003        219 non-null    int64 \n",
      " 10  S_2003      80 non-null     object\n",
      " 11  2004        219 non-null    int64 \n",
      " 12  S_2004      91 non-null     object\n",
      " 13  2005        219 non-null    int64 \n",
      " 14  S_2005      88 non-null     object\n",
      " 15  2006        219 non-null    int64 \n",
      " 16  S_2006      95 non-null     object\n",
      " 17  2007        219 non-null    int64 \n",
      " 18  S_2007      78 non-null     object\n",
      " 19  2008        219 non-null    int64 \n",
      " 20  S_2008      77 non-null     object\n",
      " 21  2009        219 non-null    int64 \n",
      " 22  S_2009      84 non-null     object\n",
      " 23  2010        219 non-null    int64 \n",
      " 24  S_2010      84 non-null     object\n",
      " 25  2011        219 non-null    int64 \n",
      " 26  S_2011      87 non-null     object\n",
      " 27  2012        219 non-null    int64 \n",
      " 28  S_2012      85 non-null     object\n",
      " 29  2013        219 non-null    int64 \n",
      " 30  S_2013      90 non-null     object\n",
      " 31  2014        219 non-null    int64 \n",
      " 32  S_2014      96 non-null     object\n",
      " 33  2015        219 non-null    int64 \n",
      " 34  S_2015      110 non-null    object\n",
      "dtypes: int64(16), object(19)\n",
      "memory usage: 60.0+ KB\n"
     ]
    }
   ],
   "source": [
    "df_copy.info()"
   ]
  },
  {
   "cell_type": "code",
   "execution_count": 6,
   "id": "00c247d0",
   "metadata": {},
   "outputs": [
    {
     "data": {
      "text/html": [
       "<div>\n",
       "<style scoped>\n",
       "    .dataframe tbody tr th:only-of-type {\n",
       "        vertical-align: middle;\n",
       "    }\n",
       "\n",
       "    .dataframe tbody tr th {\n",
       "        vertical-align: top;\n",
       "    }\n",
       "\n",
       "    .dataframe thead th {\n",
       "        text-align: right;\n",
       "    }\n",
       "</style>\n",
       "<table border=\"1\" class=\"dataframe\">\n",
       "  <thead>\n",
       "    <tr style=\"text-align: right;\">\n",
       "      <th></th>\n",
       "      <th>Land Area</th>\n",
       "      <th>Trade flow</th>\n",
       "      <th>Commodity</th>\n",
       "      <th>2000</th>\n",
       "      <th>2001</th>\n",
       "      <th>2002</th>\n",
       "      <th>2003</th>\n",
       "      <th>2004</th>\n",
       "      <th>2005</th>\n",
       "      <th>2006</th>\n",
       "      <th>2007</th>\n",
       "      <th>2008</th>\n",
       "      <th>2009</th>\n",
       "      <th>2010</th>\n",
       "      <th>2011</th>\n",
       "      <th>2012</th>\n",
       "      <th>2013</th>\n",
       "      <th>2014</th>\n",
       "      <th>2015</th>\n",
       "    </tr>\n",
       "  </thead>\n",
       "  <tbody>\n",
       "    <tr>\n",
       "      <th>0</th>\n",
       "      <td>Algeria</td>\n",
       "      <td>Export</td>\n",
       "      <td>Crustaceans</td>\n",
       "      <td>854</td>\n",
       "      <td>819</td>\n",
       "      <td>916</td>\n",
       "      <td>871</td>\n",
       "      <td>862</td>\n",
       "      <td>1057</td>\n",
       "      <td>922</td>\n",
       "      <td>709</td>\n",
       "      <td>643</td>\n",
       "      <td>525</td>\n",
       "      <td>364</td>\n",
       "      <td>411</td>\n",
       "      <td>286</td>\n",
       "      <td>219</td>\n",
       "      <td>218</td>\n",
       "      <td>211</td>\n",
       "    </tr>\n",
       "    <tr>\n",
       "      <th>1</th>\n",
       "      <td>Algeria</td>\n",
       "      <td>Export</td>\n",
       "      <td>Fish</td>\n",
       "      <td>187</td>\n",
       "      <td>259</td>\n",
       "      <td>977</td>\n",
       "      <td>307</td>\n",
       "      <td>215</td>\n",
       "      <td>223</td>\n",
       "      <td>500</td>\n",
       "      <td>618</td>\n",
       "      <td>994</td>\n",
       "      <td>793</td>\n",
       "      <td>457</td>\n",
       "      <td>109</td>\n",
       "      <td>277</td>\n",
       "      <td>317</td>\n",
       "      <td>339</td>\n",
       "      <td>308</td>\n",
       "    </tr>\n",
       "    <tr>\n",
       "      <th>2</th>\n",
       "      <td>Algeria</td>\n",
       "      <td>Import</td>\n",
       "      <td>Crustaceans</td>\n",
       "      <td>23</td>\n",
       "      <td>21</td>\n",
       "      <td>128</td>\n",
       "      <td>176</td>\n",
       "      <td>415</td>\n",
       "      <td>448</td>\n",
       "      <td>304</td>\n",
       "      <td>612</td>\n",
       "      <td>597</td>\n",
       "      <td>953</td>\n",
       "      <td>1009</td>\n",
       "      <td>1269</td>\n",
       "      <td>1619</td>\n",
       "      <td>1835</td>\n",
       "      <td>1932</td>\n",
       "      <td>1518</td>\n",
       "    </tr>\n",
       "    <tr>\n",
       "      <th>3</th>\n",
       "      <td>Algeria</td>\n",
       "      <td>Import</td>\n",
       "      <td>Fish</td>\n",
       "      <td>7434</td>\n",
       "      <td>7426</td>\n",
       "      <td>10389</td>\n",
       "      <td>20923</td>\n",
       "      <td>22053</td>\n",
       "      <td>19481</td>\n",
       "      <td>22280</td>\n",
       "      <td>19508</td>\n",
       "      <td>16719</td>\n",
       "      <td>26442</td>\n",
       "      <td>28127</td>\n",
       "      <td>27081</td>\n",
       "      <td>26391</td>\n",
       "      <td>29121</td>\n",
       "      <td>39576</td>\n",
       "      <td>41075</td>\n",
       "    </tr>\n",
       "    <tr>\n",
       "      <th>4</th>\n",
       "      <td>Angola</td>\n",
       "      <td>Export</td>\n",
       "      <td>Crustaceans</td>\n",
       "      <td>630</td>\n",
       "      <td>834</td>\n",
       "      <td>1951</td>\n",
       "      <td>346</td>\n",
       "      <td>363</td>\n",
       "      <td>1189</td>\n",
       "      <td>1562</td>\n",
       "      <td>1405</td>\n",
       "      <td>899</td>\n",
       "      <td>916</td>\n",
       "      <td>1059</td>\n",
       "      <td>619</td>\n",
       "      <td>1388</td>\n",
       "      <td>1609</td>\n",
       "      <td>1365</td>\n",
       "      <td>1683</td>\n",
       "    </tr>\n",
       "    <tr>\n",
       "      <th>...</th>\n",
       "      <td>...</td>\n",
       "      <td>...</td>\n",
       "      <td>...</td>\n",
       "      <td>...</td>\n",
       "      <td>...</td>\n",
       "      <td>...</td>\n",
       "      <td>...</td>\n",
       "      <td>...</td>\n",
       "      <td>...</td>\n",
       "      <td>...</td>\n",
       "      <td>...</td>\n",
       "      <td>...</td>\n",
       "      <td>...</td>\n",
       "      <td>...</td>\n",
       "      <td>...</td>\n",
       "      <td>...</td>\n",
       "      <td>...</td>\n",
       "      <td>...</td>\n",
       "      <td>...</td>\n",
       "    </tr>\n",
       "    <tr>\n",
       "      <th>214</th>\n",
       "      <td>Zambia</td>\n",
       "      <td>Import</td>\n",
       "      <td>Fish</td>\n",
       "      <td>1327</td>\n",
       "      <td>906</td>\n",
       "      <td>2120</td>\n",
       "      <td>3407</td>\n",
       "      <td>3961</td>\n",
       "      <td>5796</td>\n",
       "      <td>3867</td>\n",
       "      <td>4635</td>\n",
       "      <td>3435</td>\n",
       "      <td>3261</td>\n",
       "      <td>4426</td>\n",
       "      <td>8412</td>\n",
       "      <td>17902</td>\n",
       "      <td>33017</td>\n",
       "      <td>55642</td>\n",
       "      <td>78047</td>\n",
       "    </tr>\n",
       "    <tr>\n",
       "      <th>215</th>\n",
       "      <td>Zimbabwe</td>\n",
       "      <td>Export</td>\n",
       "      <td>Crustaceans</td>\n",
       "      <td>1</td>\n",
       "      <td>2</td>\n",
       "      <td>2</td>\n",
       "      <td>0</td>\n",
       "      <td>2</td>\n",
       "      <td>0</td>\n",
       "      <td>0</td>\n",
       "      <td>2</td>\n",
       "      <td>0</td>\n",
       "      <td>0</td>\n",
       "      <td>0</td>\n",
       "      <td>0</td>\n",
       "      <td>3</td>\n",
       "      <td>0</td>\n",
       "      <td>0</td>\n",
       "      <td>0</td>\n",
       "    </tr>\n",
       "    <tr>\n",
       "      <th>216</th>\n",
       "      <td>Zimbabwe</td>\n",
       "      <td>Export</td>\n",
       "      <td>Fish</td>\n",
       "      <td>816</td>\n",
       "      <td>936</td>\n",
       "      <td>712</td>\n",
       "      <td>520</td>\n",
       "      <td>708</td>\n",
       "      <td>563</td>\n",
       "      <td>805</td>\n",
       "      <td>1439</td>\n",
       "      <td>1487</td>\n",
       "      <td>966</td>\n",
       "      <td>1137</td>\n",
       "      <td>2056</td>\n",
       "      <td>2516</td>\n",
       "      <td>3255</td>\n",
       "      <td>5878</td>\n",
       "      <td>4972</td>\n",
       "    </tr>\n",
       "    <tr>\n",
       "      <th>217</th>\n",
       "      <td>Zimbabwe</td>\n",
       "      <td>Import</td>\n",
       "      <td>Crustaceans</td>\n",
       "      <td>79</td>\n",
       "      <td>41</td>\n",
       "      <td>61</td>\n",
       "      <td>28</td>\n",
       "      <td>53</td>\n",
       "      <td>171</td>\n",
       "      <td>48</td>\n",
       "      <td>29</td>\n",
       "      <td>16</td>\n",
       "      <td>11</td>\n",
       "      <td>19</td>\n",
       "      <td>32</td>\n",
       "      <td>32</td>\n",
       "      <td>67</td>\n",
       "      <td>63</td>\n",
       "      <td>83</td>\n",
       "    </tr>\n",
       "    <tr>\n",
       "      <th>218</th>\n",
       "      <td>Zimbabwe</td>\n",
       "      <td>Import</td>\n",
       "      <td>Fish</td>\n",
       "      <td>7453</td>\n",
       "      <td>3062</td>\n",
       "      <td>1494</td>\n",
       "      <td>952</td>\n",
       "      <td>2636</td>\n",
       "      <td>825</td>\n",
       "      <td>3472</td>\n",
       "      <td>1939</td>\n",
       "      <td>2273</td>\n",
       "      <td>3379</td>\n",
       "      <td>9968</td>\n",
       "      <td>13572</td>\n",
       "      <td>15513</td>\n",
       "      <td>17277</td>\n",
       "      <td>18053</td>\n",
       "      <td>21148</td>\n",
       "    </tr>\n",
       "  </tbody>\n",
       "</table>\n",
       "<p>219 rows × 19 columns</p>\n",
       "</div>"
      ],
      "text/plain": [
       "    Land Area Trade flow    Commodity  2000  2001   2002   2003   2004   2005  \\\n",
       "0     Algeria     Export  Crustaceans   854   819    916    871    862   1057   \n",
       "1     Algeria     Export         Fish   187   259    977    307    215    223   \n",
       "2     Algeria     Import  Crustaceans    23    21    128    176    415    448   \n",
       "3     Algeria     Import         Fish  7434  7426  10389  20923  22053  19481   \n",
       "4      Angola     Export  Crustaceans   630   834   1951    346    363   1189   \n",
       "..        ...        ...          ...   ...   ...    ...    ...    ...    ...   \n",
       "214    Zambia     Import         Fish  1327   906   2120   3407   3961   5796   \n",
       "215  Zimbabwe     Export  Crustaceans     1     2      2      0      2      0   \n",
       "216  Zimbabwe     Export         Fish   816   936    712    520    708    563   \n",
       "217  Zimbabwe     Import  Crustaceans    79    41     61     28     53    171   \n",
       "218  Zimbabwe     Import         Fish  7453  3062   1494    952   2636    825   \n",
       "\n",
       "      2006   2007   2008   2009   2010   2011   2012   2013   2014   2015  \n",
       "0      922    709    643    525    364    411    286    219    218    211  \n",
       "1      500    618    994    793    457    109    277    317    339    308  \n",
       "2      304    612    597    953   1009   1269   1619   1835   1932   1518  \n",
       "3    22280  19508  16719  26442  28127  27081  26391  29121  39576  41075  \n",
       "4     1562   1405    899    916   1059    619   1388   1609   1365   1683  \n",
       "..     ...    ...    ...    ...    ...    ...    ...    ...    ...    ...  \n",
       "214   3867   4635   3435   3261   4426   8412  17902  33017  55642  78047  \n",
       "215      0      2      0      0      0      0      3      0      0      0  \n",
       "216    805   1439   1487    966   1137   2056   2516   3255   5878   4972  \n",
       "217     48     29     16     11     19     32     32     67     63     83  \n",
       "218   3472   1939   2273   3379   9968  13572  15513  17277  18053  21148  \n",
       "\n",
       "[219 rows x 19 columns]"
      ]
     },
     "execution_count": 6,
     "metadata": {},
     "output_type": "execute_result"
    }
   ],
   "source": [
    "for col in df_copy.columns:\n",
    "    if \"S\" in col:\n",
    "        del(df_copy[col])\n",
    "df_copy"
   ]
  },
  {
   "cell_type": "code",
   "execution_count": 80,
   "id": "6039d4f4",
   "metadata": {},
   "outputs": [],
   "source": [
    "# df_copy.to_csv(\"Africa_aqua.csv\", index = False)"
   ]
  },
  {
   "cell_type": "markdown",
   "id": "c06a7617",
   "metadata": {},
   "source": [
    "# What year had the highest export"
   ]
  },
  {
   "cell_type": "code",
   "execution_count": 11,
   "id": "71ac53b2",
   "metadata": {},
   "outputs": [
    {
     "data": {
      "text/plain": [
       "'2015'"
      ]
     },
     "execution_count": 11,
     "metadata": {},
     "output_type": "execute_result"
    }
   ],
   "source": [
    "year_list = ['2000', '2001', '2002', '2003', '2004', '2005', '2006', '2007', '2008', '2009', '2010', '2011', '2012', '2013', '2014', '2015']\n",
    "export_df = df_copy[df_copy['Trade flow'] == 'Export']\n",
    "group_export = export_df.groupby(['Trade flow']) [year_list].sum().reset_index()\n",
    "group_transpose = group_export.set_index(\"Trade flow\").T.rename_axis(\"Year\")\n",
    "group_transpose.columns = [\"Export Quantity\"]\n",
    "max_export = group_transpose.sort_values(by = \"Export Quantity\", ascending = False).head()\n",
    "max_export[\"Export Quantity\"].idxmax()\n",
    "# max_export.to_csv(\"year_with_the_highest_export.csv\", index = True)"
   ]
  },
  {
   "cell_type": "markdown",
   "id": "09d2e5d3",
   "metadata": {},
   "source": [
    "# What was the highest exported commodity in 2015"
   ]
  },
  {
   "cell_type": "code",
   "execution_count": 13,
   "id": "4f86fded",
   "metadata": {},
   "outputs": [
    {
     "data": {
      "text/plain": [
       "'Fish'"
      ]
     },
     "execution_count": 13,
     "metadata": {},
     "output_type": "execute_result"
    }
   ],
   "source": [
    "year_list = ['2015']\n",
    "export_df = df_copy[df_copy['Trade flow'] == 'Export']\n",
    "group_commodity = export_df.groupby(['Commodity']) [year_list].sum().reset_index()\n",
    "group_commodity.columns = [\"Commodity\", \"2015 Export\"]\n",
    "max_export = group_commodity.sort_values(by = \"2015 Export\", ascending = False).head()\n",
    "max_export = group_commodity.iloc[group_commodity[\"2015 Export\"].idxmax()]\n",
    "max_export[\"Commodity\"]\n",
    "# max_export\n",
    "# max_export.to_csv(\"2015_highest_exported_commodity.csv\", index = True)"
   ]
  },
  {
   "cell_type": "markdown",
   "id": "f2fc3618",
   "metadata": {},
   "source": [
    "# What country had the highest export in 2015"
   ]
  },
  {
   "cell_type": "code",
   "execution_count": 41,
   "id": "88a42ca4",
   "metadata": {},
   "outputs": [
    {
     "data": {
      "text/plain": [
       "'Namibia'"
      ]
     },
     "execution_count": 41,
     "metadata": {},
     "output_type": "execute_result"
    }
   ],
   "source": [
    "year_list = ['2015']\n",
    "export_df = df_copy[df_copy['Trade flow'] == 'Export']\n",
    "group_country = export_df.groupby(['Land Area']) [year_list].sum().reset_index()\n",
    "group_country.columns = [\"Country\", \"2015 Export\"]\n",
    "max_export = group_country.iloc[group_country[\"2015 Export\"].idxmax()]\n",
    "max_export[\"Country\"]\n",
    "# max_export = group_country.sort_values(by = \"2015 Export\", ascending = False).head()\n",
    "# max_export"
   ]
  },
  {
   "cell_type": "markdown",
   "id": "8e75da70",
   "metadata": {},
   "source": [
    "# What country had the highest export of fish in 2015"
   ]
  },
  {
   "cell_type": "code",
   "execution_count": 28,
   "id": "30255f9a",
   "metadata": {},
   "outputs": [
    {
     "data": {
      "text/plain": [
       "'Namibia'"
      ]
     },
     "execution_count": 28,
     "metadata": {},
     "output_type": "execute_result"
    }
   ],
   "source": [
    "year_list = ['2015']\n",
    "export_df = df_copy[df_copy['Trade flow'] == 'Export']\n",
    "fish_df = export_df[export_df['Commodity'] == 'Fish']\n",
    "group_fish = fish_df.groupby(['Land Area']) [year_list].sum().reset_index()\n",
    "group_fish.columns = [\"Country\", \"Fish Export 2015\"]\n",
    "max_fish = group_fish.loc[group_fish[\"Fish Export 2015\"].idxmax()]\n",
    "max_fish.Country\n",
    "# max_fish = group_fish.sort_values(by = \"Fish Export 2015\", ascending = False).head()\n",
    "# max_fish"
   ]
  },
  {
   "cell_type": "markdown",
   "id": "07ad3b5f",
   "metadata": {},
   "source": [
    "# What year had the highest Import"
   ]
  },
  {
   "cell_type": "code",
   "execution_count": 21,
   "id": "99a7da76",
   "metadata": {},
   "outputs": [
    {
     "data": {
      "text/plain": [
       "'2014'"
      ]
     },
     "execution_count": 21,
     "metadata": {},
     "output_type": "execute_result"
    }
   ],
   "source": [
    "year_list = ['2000', '2001', '2002', '2003', '2004', '2005', '2006', '2007', '2008', '2009', '2010', '2011', '2012', '2013', '2014', '2015']\n",
    "import_df = df_copy[df_copy['Trade flow'] == 'Import']\n",
    "group_import = import_df.groupby(['Trade flow']) [year_list].sum().reset_index()\n",
    "group_transpose = group_import.set_index(\"Trade flow\").T.rename_axis(\"Year\")\n",
    "group_transpose.columns = [\"Import Quantity\"]\n",
    "max_export = group_transpose.sort_values(by = \"Import Quantity\", ascending = False).head()\n",
    "max_export[\"Import Quantity\"].idxmax()\n",
    "# max_export.to_csv(\"year_highest_import.csv\", index = True)"
   ]
  },
  {
   "cell_type": "markdown",
   "id": "c5e29067",
   "metadata": {},
   "source": [
    "# What was the highest imported commodity in 2014"
   ]
  },
  {
   "cell_type": "code",
   "execution_count": 27,
   "id": "50630a05",
   "metadata": {},
   "outputs": [
    {
     "data": {
      "text/plain": [
       "'Fish'"
      ]
     },
     "execution_count": 27,
     "metadata": {},
     "output_type": "execute_result"
    }
   ],
   "source": [
    "year_list = ['2014']\n",
    "import_df = df_copy[df_copy['Trade flow'] == 'Import']\n",
    "group_commodity = import_df.groupby(['Commodity']) [year_list].sum().reset_index()\n",
    "group_commodity.columns = [\"Commodity\", \"2014 Import\"]\n",
    "max_import = group_commodity.sort_values(by = \"2014 Import\", ascending = False).head()\n",
    "max_import = group_commodity.iloc[group_commodity[\"2014 Import\"].idxmax()]\n",
    "max_import[\"Commodity\"]"
   ]
  },
  {
   "cell_type": "markdown",
   "id": "78552d08",
   "metadata": {},
   "source": [
    "# What country had the highest import in 2014"
   ]
  },
  {
   "cell_type": "code",
   "execution_count": 29,
   "id": "03267aa5",
   "metadata": {},
   "outputs": [
    {
     "data": {
      "text/plain": [
       "'Nigeria'"
      ]
     },
     "execution_count": 29,
     "metadata": {},
     "output_type": "execute_result"
    }
   ],
   "source": [
    "year_list = ['2014']\n",
    "import_df = df_copy[df_copy['Trade flow'] == 'Import']\n",
    "group_country = import_df.groupby(['Land Area']) [year_list].sum().reset_index()\n",
    "group_country.columns = [\"Country\", \"2014 Import\"]\n",
    "max_import = group_country.sort_values(by = \"2014 Import\", ascending = False).head()\n",
    "max_import = group_country.iloc[group_country[\"2014 Import\"].idxmax()]\n",
    "max_import[\"Country\"]"
   ]
  },
  {
   "cell_type": "markdown",
   "id": "55471019",
   "metadata": {},
   "source": [
    "# What country had the highest import of fish in 2014"
   ]
  },
  {
   "cell_type": "code",
   "execution_count": 31,
   "id": "c188bc84",
   "metadata": {},
   "outputs": [
    {
     "data": {
      "text/plain": [
       "'Nigeria'"
      ]
     },
     "execution_count": 31,
     "metadata": {},
     "output_type": "execute_result"
    }
   ],
   "source": [
    "year_list = ['2014']\n",
    "import_df = df_copy[df_copy['Trade flow'] == 'Import']\n",
    "fish_df = import_df[import_df['Commodity'] == 'Fish']\n",
    "group_fish = fish_df.groupby(['Land Area']) [year_list].sum().reset_index()\n",
    "group_fish.columns = [\"Country\", \"Fish Import 2014\"]\n",
    "max_fish = group_fish.sort_values(by = \"Fish Import 2014\", ascending = False).head()\n",
    "max_fish = group_fish.loc[group_fish[\"Fish Import 2014\"].idxmax()]\n",
    "max_fish.Country"
   ]
  },
  {
   "cell_type": "markdown",
   "id": "4c498479",
   "metadata": {},
   "source": [
    "# What commodity had the highest export"
   ]
  },
  {
   "cell_type": "code",
   "execution_count": 35,
   "id": "46de0d1f",
   "metadata": {},
   "outputs": [
    {
     "data": {
      "text/plain": [
       "'Fish'"
      ]
     },
     "execution_count": 35,
     "metadata": {},
     "output_type": "execute_result"
    }
   ],
   "source": [
    "year_list = ['2000', '2001', '2002', '2003', '2004', '2005', '2006', '2007', '2008', '2009', '2010', '2011', '2012', '2013', '2014', '2015']\n",
    "export_df = df_copy[df_copy['Trade flow'] == 'Export']\n",
    "group_export = export_df.groupby(['Commodity']) [year_list].sum().reset_index()\n",
    "group_export[\"Total Export\"] = group_export.apply(lambda x: pd.to_numeric(x, errors = \"coerce\")).sum(axis = 1)\n",
    "group_export.drop(group_export.iloc[:, 1:17], inplace = True, axis = 1)\n",
    "max_export = group_export.sort_values(by = \"Total Export\", ascending = False).head()\n",
    "max_export = group_export.loc[group_export[\"Total Export\"].idxmax()]\n",
    "max_export[\"Commodity\"]\n",
    "# max_export.to_csv(\"commodity_highest_export.csv\", index = True)"
   ]
  },
  {
   "cell_type": "markdown",
   "id": "e40e3047",
   "metadata": {},
   "source": [
    "# What commodity had the highest import"
   ]
  },
  {
   "cell_type": "code",
   "execution_count": 36,
   "id": "ddf0def3",
   "metadata": {},
   "outputs": [
    {
     "data": {
      "text/plain": [
       "'Fish'"
      ]
     },
     "execution_count": 36,
     "metadata": {},
     "output_type": "execute_result"
    }
   ],
   "source": [
    "year_list = ['2000', '2001', '2002', '2003', '2004', '2005', '2006', '2007', '2008', '2009', '2010', '2011', '2012', '2013', '2014', '2015']\n",
    "import_df = df_copy[df_copy['Trade flow'] == 'Import']\n",
    "group_import = import_df.groupby(['Commodity']) [year_list].sum().reset_index()\n",
    "group_import[\"Total Import\"] = group_import.apply(lambda x: pd.to_numeric(x, errors = \"coerce\")).sum(axis = 1)\n",
    "group_import.drop(group_import.iloc[:, 1:17], inplace = True, axis = 1)\n",
    "max_import = group_import.sort_values(by = \"Total Import\", ascending = False).head()\n",
    "max_import = group_import.loc[group_import[\"Total Import\"].idxmax()]\n",
    "max_import[\"Commodity\"]\n",
    "# max_import.to_csv(\"commodity_highest_import.csv\", index = True)"
   ]
  },
  {
   "cell_type": "markdown",
   "id": "74d16685",
   "metadata": {},
   "source": [
    "# What country had the highest export"
   ]
  },
  {
   "cell_type": "code",
   "execution_count": 37,
   "id": "f0187a95",
   "metadata": {},
   "outputs": [
    {
     "data": {
      "text/plain": [
       "'Namibia'"
      ]
     },
     "execution_count": 37,
     "metadata": {},
     "output_type": "execute_result"
    }
   ],
   "source": [
    "year_list = ['2000', '2001', '2002', '2003', '2004', '2005', '2006', '2007', '2008', '2009', '2010', '2011', '2012', '2013', '2014', '2015']\n",
    "export_df = df_copy[df_copy['Trade flow'] == 'Export']\n",
    "group_export = export_df.groupby(['Land Area']) [year_list].sum().reset_index()\n",
    "group_export[\"Total Export\"] = group_export.apply(lambda x: pd.to_numeric(x, errors = \"coerce\")).sum(axis = 1)\n",
    "group_export.drop(group_export.iloc[:, 1:17], inplace = True, axis = 1)\n",
    "max_export = group_export.sort_values(by = \"Total Export\", ascending = False).head()\n",
    "max_export = group_export.loc[group_export[\"Total Export\"].idxmax()]\n",
    "max_export[\"Land Area\"]\n",
    "# max_export.to_csv(\"country_highest_export.csv\", index = True)"
   ]
  },
  {
   "cell_type": "markdown",
   "id": "daeb2759",
   "metadata": {},
   "source": [
    "# What Country had the highest import"
   ]
  },
  {
   "cell_type": "code",
   "execution_count": 40,
   "id": "934743e4",
   "metadata": {},
   "outputs": [
    {
     "data": {
      "text/plain": [
       "'Nigeria'"
      ]
     },
     "execution_count": 40,
     "metadata": {},
     "output_type": "execute_result"
    }
   ],
   "source": [
    "year_list = ['2000', '2001', '2002', '2003', '2004', '2005', '2006', '2007', '2008', '2009', '2010', '2011', '2012', '2013', '2014', '2015']\n",
    "import_df = df_copy[df_copy['Trade flow'] == 'Import']\n",
    "group_import = import_df.groupby(['Land Area']) [year_list].sum().reset_index()\n",
    "group_import[\"Total Import\"] = group_import.apply(lambda x: pd.to_numeric(x, errors = \"coerce\")).sum(axis = 1)\n",
    "group_import.drop(group_import.iloc[:, 1:17], inplace = True, axis = 1)\n",
    "max_import = group_import.sort_values(by = \"Total Import\", ascending = False).head()\n",
    "max_import = group_import.loc[group_import[\"Total Import\"].idxmax()]\n",
    "max_import[\"Land Area\"]\n",
    "# max_import.to_csv(\"country_highest_import.csv\", index = True)\n"
   ]
  }
 ],
 "metadata": {
  "kernelspec": {
   "display_name": "Python 3 (ipykernel)",
   "language": "python",
   "name": "python3"
  },
  "language_info": {
   "codemirror_mode": {
    "name": "ipython",
    "version": 3
   },
   "file_extension": ".py",
   "mimetype": "text/x-python",
   "name": "python",
   "nbconvert_exporter": "python",
   "pygments_lexer": "ipython3",
   "version": "3.9.7"
  }
 },
 "nbformat": 4,
 "nbformat_minor": 5
}
